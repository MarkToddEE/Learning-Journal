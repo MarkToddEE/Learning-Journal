{
  "nbformat": 4,
  "nbformat_minor": 0,
  "metadata": {
    "colab": {
      "provenance": [],
      "authorship_tag": "ABX9TyOFPW/mMFFzaKox+nFUA+YQ",
      "include_colab_link": true
    },
    "kernelspec": {
      "name": "python3",
      "display_name": "Python 3"
    },
    "language_info": {
      "name": "python"
    }
  },
  "cells": [
    {
      "cell_type": "markdown",
      "metadata": {
        "id": "view-in-github",
        "colab_type": "text"
      },
      "source": [
        "<a href=\"https://colab.research.google.com/github/MarkToddEE/Learning-Journal/blob/main/Python_book.ipynb\" target=\"_parent\"><img src=\"https://colab.research.google.com/assets/colab-badge.svg\" alt=\"Open In Colab\"/></a>"
      ]
    },
    {
      "cell_type": "markdown",
      "source": [
        "## Comments"
      ],
      "metadata": {
        "id": "4hvMqxuDIP1r"
      }
    },
    {
      "cell_type": "code",
      "execution_count": null,
      "metadata": {
        "colab": {
          "base_uri": "https://localhost:8080/",
          "height": 36
        },
        "id": "UTjLAcgeEx3O",
        "outputId": "2147e068-4545-4ef3-a9cb-bad15963df29"
      },
      "outputs": [
        {
          "output_type": "execute_result",
          "data": {
            "text/plain": [
              "'\\nThis is a multi line comment\\n'"
            ],
            "application/vnd.google.colaboratory.intrinsic+json": {
              "type": "string"
            }
          },
          "metadata": {},
          "execution_count": 2
        }
      ],
      "source": [
        "# This is a single line comment\n",
        "\"\"\"\n",
        "This is a multi line comment\n",
        "\n",
        "\"\"\"\n"
      ]
    },
    {
      "cell_type": "markdown",
      "source": [
        "## Data types"
      ],
      "metadata": {
        "id": "VZbVFlUdIVlp"
      }
    },
    {
      "cell_type": "code",
      "source": [
        "integer_variable =  3 #Integer\n",
        "float_variable = 3.14 # non integer number\n",
        "string_variable = \"Python\" #string, surrounded by \" \"\n",
        "boolean_variable = True # True or False or None\n",
        "my_list = [1,2,3,4] #ordered list of items NOTE [ brackets\n",
        "my_tuple = (1,\"two\",3.0) # collection of items NOTE ( brackets\n",
        "my_dict = {\"name\": \"John\", \"age\": 36} # key value pairs NOTE { brackets and colon seperators\n",
        "\n",
        "x,y,z = 5,10,15 # Assign multiple value to variables in one line\n",
        "\n",
        "a,b = 10,20\n",
        "a,b = b,a # swap values\n",
        "\n",
        "global_var = 100 # Variables declared without any specific function or block scope possess a global scope\n",
        "\n",
        "local_var = 200 # Variables declared within a function or block have a local scope, can only be accessed with the function\n",
        "\n",
        "\n"
      ],
      "metadata": {
        "id": "9-p7kKVgGjHu"
      },
      "execution_count": null,
      "outputs": []
    },
    {
      "cell_type": "markdown",
      "source": [
        "## String Manipulation"
      ],
      "metadata": {
        "id": "uzDLU8asIwM1"
      }
    },
    {
      "cell_type": "code",
      "source": [
        "greeting = \"Hello World\" # new variable called 'greeting', with the string value 'Hello World'\n",
        "\n",
        "Length = len(greeting) # new variable called length, calulating the length of the 'greeting' variable using the len function\n",
        "\n",
        "new_greeting = greeting + \"Welcome to Python\" # new variable called 'new_greeting' with value of 'greeting' concatenated to \"Welcome to Python\"\n",
        "\n",
        "formatted_greeting = f\"Length:{Length}, Greeting:{greeting}\"\n",
        "\n",
        "\"\"\" This line creates a formatted string using an f-string (indicated by the f before the opening quote).\n",
        "This allows you to embed variables directly within the string using curly braces {}.\n",
        "Here, it inserts the values of the length and greeting variables into the string.\n",
        "\"\"\"\n",
        "print(Length)\n",
        "print (new_greeting)\n",
        "print (formatted_greeting)\n",
        "\n",
        "uppercase_greeting =greeting.upper()\n",
        "lowercase_greeting = greeting.lower()\n",
        "\n",
        "print(uppercase_greeting)\n",
        "print(lowercase_greeting)\n",
        "\n",
        "\n",
        "words = greeting.split()\n",
        "print(words)\n",
        "Joined_sentance = \" \".join(words)\n",
        "print(Joined_sentance)\n"
      ],
      "metadata": {
        "colab": {
          "base_uri": "https://localhost:8080/"
        },
        "id": "UvGoh0ZOI1rZ",
        "outputId": "d5178062-cdd2-4c5c-93a0-19becc4a8640"
      },
      "execution_count": 30,
      "outputs": [
        {
          "output_type": "stream",
          "name": "stdout",
          "text": [
            "11\n",
            "Hello WorldWelcome to Python\n",
            "Length:11, Greeting:Hello World\n",
            "HELLO WORLD\n",
            "hello world\n",
            "['Hello', 'World']\n",
            "Hello World\n"
          ]
        }
      ]
    },
    {
      "cell_type": "markdown",
      "source": [
        "## If-Else Statements\n"
      ],
      "metadata": {
        "id": "XElwjYuFPHr8"
      }
    },
    {
      "cell_type": "code",
      "source": [
        "x =10\n",
        "if x> 5:                        # end if if line has a colon\n",
        "  print(\"x is greater than 5\")  # result if true is indented\n",
        "elif x==5:                      # elif = else if, with a colon and back at the base line (not indented)\n",
        "  print(\"x is equal to 5\")\n",
        "else:                           # else is eveythhing else not captured by the previous conditional statements\n",
        "  print(\"x is less than 5\")\n",
        "\n",
        "\n",
        "  # a variable can be set using if Else\n",
        "\n",
        " # var = value_if_true if condition else value_if_false\n",
        "\n",
        "# ternary_var = \"adult\" if age>=18 else \"minor\"\n"
      ],
      "metadata": {
        "colab": {
          "base_uri": "https://localhost:8080/"
        },
        "id": "JxY8rq_gPOZJ",
        "outputId": "e9e2c221-92fa-43c8-87ee-4f0128c97726"
      },
      "execution_count": null,
      "outputs": [
        {
          "output_type": "stream",
          "name": "stdout",
          "text": [
            "x is greater than 5\n"
          ]
        }
      ]
    },
    {
      "cell_type": "markdown",
      "source": [
        "## Loops\n",
        "### For and While\n",
        "#### These loops create the same output"
      ],
      "metadata": {
        "id": "oiHuzoO0QERj"
      }
    },
    {
      "cell_type": "code",
      "source": [
        "# for loop\n",
        "for i in range(5):      # :\n",
        "  print (i)             # indent\n",
        "\n",
        "# while loop\n",
        "count = 0\n",
        "while count < 5:        # colon\n",
        "    print(count)        # indent\n",
        "    count += 1\n"
      ],
      "metadata": {
        "colab": {
          "base_uri": "https://localhost:8080/"
        },
        "id": "y83AA9-oQHZy",
        "outputId": "e151a126-0c28-44ef-8dc5-2376272672f8"
      },
      "execution_count": null,
      "outputs": [
        {
          "output_type": "stream",
          "name": "stdout",
          "text": [
            "0\n",
            "1\n",
            "2\n",
            "3\n",
            "4\n",
            "0\n",
            "1\n",
            "2\n",
            "3\n",
            "4\n"
          ]
        }
      ]
    },
    {
      "cell_type": "markdown",
      "source": [
        "## Functions\n"
      ],
      "metadata": {
        "id": "ljWD0jHOeB5E"
      }
    },
    {
      "cell_type": "code",
      "source": [
        "#def function_name(attributes)\n",
        "  # code of function, indented\n",
        "# result = function_name(attributeValue)   call function\n"
      ],
      "metadata": {
        "id": "3v8jwNsheFWd"
      },
      "execution_count": 52,
      "outputs": []
    },
    {
      "cell_type": "markdown",
      "source": [
        "## Lists\n",
        "### Contained with square brackets []\n",
        "### Use for\n",
        "- Ordered collectionn of items\n",
        "- Elements might need to be added, removed or mofifies during execution"
      ],
      "metadata": {
        "id": "rGhpYUUre3rw"
      }
    },
    {
      "cell_type": "code",
      "source": [
        "my_list = [1,\"Two\",3.0,[4,5]] # Lists have [] brackets\n",
        "print(my_list)\n",
        "# list = [n0, n1,n2,n3.....nmax]\n",
        "\n",
        "print(my_list[0]) # prints 1st value in list\n",
        "print(my_list[1]) # prints 2nd value in list\n",
        "print(my_list[2]) # prints 3rd value in list\n",
        "print(my_list[3]) # prints 4th value in list\n",
        "print(my_list[3][0]) # prints 1st value in 4 item in list\n",
        "\n",
        "# print (my_list[n1:n3]) # prints values at n1 to n3 -1\n",
        "print (my_list[1:2]) # prints 2nd value only\n",
        "\n",
        "my_list[0] = 10 # modifies the value at position n0\n",
        "print(my_list)\n"
      ],
      "metadata": {
        "id": "ZW4jFAbxe6So",
        "colab": {
          "base_uri": "https://localhost:8080/"
        },
        "outputId": "dcc2b679-6638-459f-ba89-0ea39a784136"
      },
      "execution_count": 5,
      "outputs": [
        {
          "output_type": "stream",
          "name": "stdout",
          "text": [
            "[1, 'Two', 3.0, [4, 5]]\n",
            "1\n",
            "Two\n",
            "3.0\n",
            "[4, 5]\n",
            "4\n",
            "['Two']\n",
            "[10, 'Two', 3.0, [4, 5]]\n"
          ]
        }
      ]
    },
    {
      "cell_type": "markdown",
      "source": [
        "## Dictionaries\n",
        "### Unordered collections stored as Key value pairs\n",
        "### stored within curly brackets {}\n",
        "### Use for\n",
        "- Key value pairs\n",
        "- Quick insertion,deletion and lookup\n"
      ],
      "metadata": {
        "id": "m05Szz8KkbKR"
      }
    },
    {
      "cell_type": "code",
      "source": [
        "person = {\n",
        "    \"name\": \"John\",\n",
        "    \"age\": 30,\n",
        "    \"city\": \"New York\"\n",
        "}                     #  Note {} brackets encompass the collection\n",
        "\n",
        "print(person[\"name\"]) # prints the name value from the dictionary person\n",
        "print(person[\"age\"])\n",
        "print(person[\"city\"])\n",
        "print(person.get(\"citys\",\"Unkown\")) # method includes error message if key does not exist\n",
        "\n",
        "\n",
        "print(person)         # prints all values from the dictionary person, including the collection name\n",
        "\n",
        "person[\"age\"] = 35    # changes the age in person to 35\n",
        "print(person[\"age\"])\n",
        "\n",
        "person[\"gender\"]=\"Male\" # adding a key/value\n",
        "print(person)\n",
        "\n",
        "del person[\"city\"] # removing a key/value\n",
        "print(person)\n",
        "\n",
        "person_keys = person.keys()\n",
        "person_values = person.values()\n",
        "print(person_keys)\n",
        "print(person_values)\n",
        "\n",
        "\n"
      ],
      "metadata": {
        "colab": {
          "base_uri": "https://localhost:8080/"
        },
        "id": "RPgB5R6HkddF",
        "outputId": "bd7b769a-aa9d-4df2-84ea-a1e37c4469d2"
      },
      "execution_count": 44,
      "outputs": [
        {
          "output_type": "stream",
          "name": "stdout",
          "text": [
            "John\n",
            "30\n",
            "New York\n",
            "Unkown\n",
            "{'name': 'John', 'age': 30, 'city': 'New York'}\n",
            "35\n",
            "{'name': 'John', 'age': 35, 'city': 'New York', 'gender': 'Male'}\n",
            "{'name': 'John', 'age': 35, 'gender': 'Male'}\n",
            "dict_keys(['name', 'age', 'gender'])\n",
            "dict_values(['John', 35, 'Male'])\n"
          ]
        }
      ]
    },
    {
      "cell_type": "code",
      "source": [
        "# Dictionary Comprehensions\n",
        "squares = {x: x*x for x in range(5)}\n",
        "print(squares)\n",
        "\n",
        "\n"
      ],
      "metadata": {
        "colab": {
          "base_uri": "https://localhost:8080/"
        },
        "id": "xaMhAYAArAa-",
        "outputId": "a0e35830-afb0-43eb-c51e-3f67f993b7eb"
      },
      "execution_count": 45,
      "outputs": [
        {
          "output_type": "stream",
          "name": "stdout",
          "text": [
            "{0: 0, 1: 1, 2: 4, 3: 9, 4: 16}\n"
          ]
        }
      ]
    },
    {
      "cell_type": "markdown",
      "source": [
        "## Tuples\n",
        "### Tuples are immutable (unchangeable) once created\n",
        "### Stored within parentheses ()\n",
        "### Use when\n",
        "- You need colleactions of values that should remain constant"
      ],
      "metadata": {
        "id": "eTnj17LBoP3j"
      }
    },
    {
      "cell_type": "code",
      "source": [
        "coordinates = (10, 20)\n",
        "\n",
        "x_coordinate= coordinates[0]\n",
        "y_coordinate = coordinates[1]\n",
        "print (coordinates)\n",
        "# coordinates[0] =15  Results in error (Immutable)\n",
        "\n",
        "x,y = coordinates\n",
        "print(x)\n",
        "print(y)\n",
        "\n",
        "combined_coordinates = coordinates + (5,10) # concatenate 2 tuples to form new tuple\n",
        "print(\"Concatenated: \" ,combined_coordinates)\n",
        "\n",
        "sum_coordinates = tuple(map(sum,zip(coordinates,(5,10)))) # sum 2 tuples to form new tuple\n",
        " # zip(tuple1, tuple2): The zip function is crucial here.\n",
        " # It takes the two tuples as input and pairs up the elements at corresponding positions, creating an iterator of tuples:\n",
        "# [(10, 20), (5, 10)].\n",
        "\n",
        "print(\"Summed: \",sum_coordinates)"
      ],
      "metadata": {
        "colab": {
          "base_uri": "https://localhost:8080/"
        },
        "id": "MW549XePfiWH",
        "outputId": "532dad9d-a027-4b34-d804-9c8e33e1c4e3"
      },
      "execution_count": 40,
      "outputs": [
        {
          "output_type": "stream",
          "name": "stdout",
          "text": [
            "(10, 20)\n",
            "10\n",
            "20\n",
            "Concatenated:  (10, 20, 5, 10)\n",
            "Summed:  (15, 30)\n"
          ]
        }
      ]
    },
    {
      "cell_type": "markdown",
      "source": [
        "##Sort Algorithms"
      ],
      "metadata": {
        "id": "BuCq4VLcwy6F"
      }
    },
    {
      "cell_type": "code",
      "source": [
        "def bubble_sort(arr):\n",
        "  n= len(arr)                               # Len of list array\n",
        "  print (my_list)\n",
        "  print(\"Length= \",n)\n",
        "  for i in range(n):                        # For Loop, 0-n (if length is 7, range would be 0-6)\n",
        "    print(\"i=\",i)\n",
        "    for j in range(0, n-i-1):\n",
        "\n",
        "      print(\"j=\",j)\n",
        "      if arr[j] > arr[j+1]:\n",
        "        arr[j], arr[j+1] = arr[j+1], arr[j]\n",
        "      print(my_list)\n",
        "my_list = [64, 34, 25, 12, 95, 11, 90]\n",
        "bubble_sort(my_list)\n",
        "print(\"Sorted array is:\",my_list)\n"
      ],
      "metadata": {
        "colab": {
          "base_uri": "https://localhost:8080/"
        },
        "id": "Dudwihpgpoyu",
        "outputId": "ae162b1e-28dc-4b9d-b37f-c5298e97c871"
      },
      "execution_count": 19,
      "outputs": [
        {
          "output_type": "stream",
          "name": "stdout",
          "text": [
            "[64, 34, 25, 12, 95, 11, 90]\n",
            "Length=  7\n",
            "i= 0\n",
            "j= 0\n",
            "[34, 64, 25, 12, 95, 11, 90]\n",
            "j= 1\n",
            "[34, 25, 64, 12, 95, 11, 90]\n",
            "j= 2\n",
            "[34, 25, 12, 64, 95, 11, 90]\n",
            "j= 3\n",
            "[34, 25, 12, 64, 95, 11, 90]\n",
            "j= 4\n",
            "[34, 25, 12, 64, 11, 95, 90]\n",
            "j= 5\n",
            "[34, 25, 12, 64, 11, 90, 95]\n",
            "i= 1\n",
            "j= 0\n",
            "[25, 34, 12, 64, 11, 90, 95]\n",
            "j= 1\n",
            "[25, 12, 34, 64, 11, 90, 95]\n",
            "j= 2\n",
            "[25, 12, 34, 64, 11, 90, 95]\n",
            "j= 3\n",
            "[25, 12, 34, 11, 64, 90, 95]\n",
            "j= 4\n",
            "[25, 12, 34, 11, 64, 90, 95]\n",
            "i= 2\n",
            "j= 0\n",
            "[12, 25, 34, 11, 64, 90, 95]\n",
            "j= 1\n",
            "[12, 25, 34, 11, 64, 90, 95]\n",
            "j= 2\n",
            "[12, 25, 11, 34, 64, 90, 95]\n",
            "j= 3\n",
            "[12, 25, 11, 34, 64, 90, 95]\n",
            "i= 3\n",
            "j= 0\n",
            "[12, 25, 11, 34, 64, 90, 95]\n",
            "j= 1\n",
            "[12, 11, 25, 34, 64, 90, 95]\n",
            "j= 2\n",
            "[12, 11, 25, 34, 64, 90, 95]\n",
            "i= 4\n",
            "j= 0\n",
            "[11, 12, 25, 34, 64, 90, 95]\n",
            "j= 1\n",
            "[11, 12, 25, 34, 64, 90, 95]\n",
            "i= 5\n",
            "j= 0\n",
            "[11, 12, 25, 34, 64, 90, 95]\n",
            "i= 6\n",
            "Sorted array is: [11, 12, 25, 34, 64, 90, 95]\n"
          ]
        }
      ]
    },
    {
      "cell_type": "markdown",
      "source": [
        "def task_scheduler(tasks):: This line defines a function named task_scheduler.\n",
        "\n",
        "def is a Python keyword used to define a function.\n",
        "task_scheduler is the name we've given to the function.\n",
        "tasks is the name of the input parameter (argument). The function expects to receive a list of tasks as input.\n",
        "sorted_tasks = sorted(tasks,key=lambda x:x[1]): This line does the following:\n",
        "\n",
        "It uses the sorted() function to sort a collection, in this case our tasks input.\n",
        "The key=lambda x:x[1] part is how it determines the sort. It's using a lambda function which is essentially a small anonymous function. This lambda function says to sort tasks based on the second element of each task item (x[1] – where x is a task from the tasks list, and [1] gets the second element). This likely means tasks are sorted by their execution time or some other associated value.\n",
        "schedule =[]: This initializes an empty list called schedule where we'll store the order of tasks.\n",
        "\n",
        "total_execution_time = 0: This initializes a variable to 0 to keep track of the total execution time.\n",
        "\n",
        "for task in sorted_tasks:: This starts a loop that goes through each task in our now sorted_tasks.\n",
        "\n",
        "schedule.append(task[0]): Inside the loop, this appends the first element of the task (likely the task name) to the schedule list.\n",
        "total_execution_time += task[1]: This adds the second element of the task (likely the execution time) to the total_execution_time variable.\n",
        "return schedule, total_execution_time: This line specifies what the function should output (return) when it's done. It returns both the schedule list and the total_execution_time.\n",
        "\n",
        "2. Using the Function:\n",
        "\n",
        "\n",
        "task_list = [(\"task A\",5),(\"Task B\",3),(\"Task C\",8),(\"Task D\",2)]\n",
        "schedule_tasks,total_time = task_scheduler(task_list)\n",
        "print(\"Task Schedule:\",schedule_tasks)\n",
        "print(\"Total Execution Time:\",total_time)\n",
        "Use code with caution\n",
        "task_list = [(\"task A\",5),(\"Task B\",3),(\"Task C\",8),(\"Task D\",2)]: This creates the task_list variable and assigns it a list of tasks. Each task is represented as a tuple: (task name, task execution time).\n",
        "\n",
        "schedule_tasks,total_time = task_scheduler(task_list): This line:\n",
        "\n",
        "Calls the task_scheduler function, passing in the task_list as input.\n",
        "Assigns the two values that the function returns to the variables schedule_tasks and total_time respectively.\n",
        "print(\"Task Schedule:\",schedule_tasks): This line prints the calculated task schedule.\n",
        "\n",
        "print(\"Total Execution Time:\",total_time): This line prints the calculated total execution time."
      ],
      "metadata": {
        "id": "pdj7qU6X6vo1"
      }
    },
    {
      "cell_type": "code",
      "source": [
        "def task_scheduler(tasks):\n",
        "  sorted_tasks = sorted(tasks,key=lambda x:x[1])\n",
        "  schedule =[]\n",
        "  total_execution_time = 0\n",
        "\n",
        "  for task in sorted_tasks:\n",
        "    schedule.append(task[0])\n",
        "    total_execution_time += task[1]\n",
        "  return schedule, total_execution_time\n",
        "\n",
        "task_list = [(\"task A\",5),(\"Task B\",3),(\"Task C\",8),(\"Task D\",2)]\n",
        "schedule_tasks,total_time = task_scheduler(task_list)\n",
        "print(\"Task Schedule:\",schedule_tasks)\n",
        "print(\"Total Execution Time:\",total_time)"
      ],
      "metadata": {
        "colab": {
          "base_uri": "https://localhost:8080/"
        },
        "id": "vdFyJIsjsRN1",
        "outputId": "93691f50-a09f-4a0d-b234-e38cacdbfe83"
      },
      "execution_count": 20,
      "outputs": [
        {
          "output_type": "stream",
          "name": "stdout",
          "text": [
            "Task Schedule: ['Task D', 'Task B', 'task A', 'Task C']\n",
            "Total Execution Time: 18\n"
          ]
        }
      ]
    },
    {
      "cell_type": "markdown",
      "source": [
        "## Find the size of an item (in bytes)"
      ],
      "metadata": {
        "id": "wRJ-BFrS9Nmu"
      }
    },
    {
      "cell_type": "code",
      "source": [
        "import sys\n",
        "memory_usage = sys.getsizeof(my_list)\n",
        "print(memory_usage)\n"
      ],
      "metadata": {
        "colab": {
          "base_uri": "https://localhost:8080/"
        },
        "id": "e4vVvxA08SUg",
        "outputId": "b596b2c4-adf5-41c5-88f9-efb680572a93"
      },
      "execution_count": 21,
      "outputs": [
        {
          "output_type": "stream",
          "name": "stdout",
          "text": [
            "120\n"
          ]
        }
      ]
    },
    {
      "cell_type": "markdown",
      "source": [
        "## Profile & optimize"
      ],
      "metadata": {
        "id": "ESo1ZVk29jSC"
      }
    },
    {
      "cell_type": "code",
      "source": [
        "import cProfile\n",
        "cProfile.run('bubble_sort(my_list)')\n"
      ],
      "metadata": {
        "colab": {
          "base_uri": "https://localhost:8080/"
        },
        "id": "5fHo2IKk9nja",
        "outputId": "dffaffdb-17d8-47e0-8cbe-56a96b38d40c"
      },
      "execution_count": 24,
      "outputs": [
        {
          "output_type": "stream",
          "name": "stdout",
          "text": [
            "[11, 12, 25, 34, 64, 90, 95]\n",
            "Length=  7\n",
            "i= 0\n",
            "j= 0\n",
            "[11, 12, 25, 34, 64, 90, 95]\n",
            "j= 1\n",
            "[11, 12, 25, 34, 64, 90, 95]\n",
            "j= 2\n",
            "[11, 12, 25, 34, 64, 90, 95]\n",
            "j= 3\n",
            "[11, 12, 25, 34, 64, 90, 95]\n",
            "j= 4\n",
            "[11, 12, 25, 34, 64, 90, 95]\n",
            "j= 5\n",
            "[11, 12, 25, 34, 64, 90, 95]\n",
            "i= 1\n",
            "j= 0\n",
            "[11, 12, 25, 34, 64, 90, 95]\n",
            "j= 1\n",
            "[11, 12, 25, 34, 64, 90, 95]\n",
            "j= 2\n",
            "[11, 12, 25, 34, 64, 90, 95]\n",
            "j= 3\n",
            "[11, 12, 25, 34, 64, 90, 95]\n",
            "j= 4\n",
            "[11, 12, 25, 34, 64, 90, 95]\n",
            "i= 2\n",
            "j= 0\n",
            "[11, 12, 25, 34, 64, 90, 95]\n",
            "j= 1\n",
            "[11, 12, 25, 34, 64, 90, 95]\n",
            "j= 2\n",
            "[11, 12, 25, 34, 64, 90, 95]\n",
            "j= 3\n",
            "[11, 12, 25, 34, 64, 90, 95]\n",
            "i= 3\n",
            "j= 0\n",
            "[11, 12, 25, 34, 64, 90, 95]\n",
            "j= 1\n",
            "[11, 12, 25, 34, 64, 90, 95]\n",
            "j= 2\n",
            "[11, 12, 25, 34, 64, 90, 95]\n",
            "i= 4\n",
            "j= 0\n",
            "[11, 12, 25, 34, 64, 90, 95]\n",
            "j= 1\n",
            "[11, 12, 25, 34, 64, 90, 95]\n",
            "i= 5\n",
            "j= 0\n",
            "[11, 12, 25, 34, 64, 90, 95]\n",
            "i= 6\n",
            "         2144 function calls in 0.017 seconds\n",
            "\n",
            "   Ordered by: standard name\n",
            "\n",
            "   ncalls  tottime  percall  cumtime  percall filename:lineno(function)\n",
            "        1    0.000    0.000    0.017    0.017 <ipython-input-19-71764ca792bc>:1(bubble_sort)\n",
            "        1    0.000    0.000    0.017    0.017 <string>:1(<module>)\n",
            "      161    0.000    0.000    0.016    0.000 iostream.py:195(schedule)\n",
            "      160    0.000    0.000    0.000    0.000 iostream.py:308(_is_master_process)\n",
            "      160    0.000    0.000    0.000    0.000 iostream.py:321(_schedule_flush)\n",
            "      160    0.000    0.000    0.017    0.000 iostream.py:384(write)\n",
            "      161    0.000    0.000    0.000    0.000 iostream.py:91(_event_pipe)\n",
            "      161    0.015    0.000    0.015    0.000 socket.py:545(send)\n",
            "      161    0.000    0.000    0.000    0.000 threading.py:1102(_wait_for_tstate_lock)\n",
            "      161    0.000    0.000    0.000    0.000 threading.py:1169(is_alive)\n",
            "      161    0.000    0.000    0.000    0.000 threading.py:553(is_set)\n",
            "        1    0.000    0.000    0.017    0.017 {built-in method builtins.exec}\n",
            "      160    0.000    0.000    0.000    0.000 {built-in method builtins.isinstance}\n",
            "        1    0.000    0.000    0.000    0.000 {built-in method builtins.len}\n",
            "       51    0.000    0.000    0.017    0.000 {built-in method builtins.print}\n",
            "      160    0.000    0.000    0.000    0.000 {built-in method posix.getpid}\n",
            "      161    0.000    0.000    0.000    0.000 {method 'acquire' of '_thread.lock' objects}\n",
            "      161    0.000    0.000    0.000    0.000 {method 'append' of 'collections.deque' objects}\n",
            "        1    0.000    0.000    0.000    0.000 {method 'disable' of '_lsprof.Profiler' objects}\n",
            "\n",
            "\n"
          ]
        }
      ]
    },
    {
      "cell_type": "markdown",
      "source": [],
      "metadata": {
        "id": "jorhHMxb-aiF"
      }
    },
    {
      "cell_type": "markdown",
      "source": [
        "## Input, Print an Return"
      ],
      "metadata": {
        "id": "mfiKiAMY_rBY"
      }
    },
    {
      "cell_type": "code",
      "source": [
        "name= input(\"Enter your name\")\n",
        "print(f\"Hello,{name}!\")\n",
        "print(\"hello\",name,\"!\")"
      ],
      "metadata": {
        "colab": {
          "base_uri": "https://localhost:8080/"
        },
        "id": "FHkb-_7g-sTP",
        "outputId": "fd6fbf84-ff8d-431e-a68e-d5bb098d2fa1"
      },
      "execution_count": 28,
      "outputs": [
        {
          "output_type": "stream",
          "name": "stdout",
          "text": [
            "Enter your nameMark\n",
            "Hello,Mark!\n",
            "hello Mark !\n"
          ]
        }
      ]
    },
    {
      "cell_type": "code",
      "source": [
        "import random\n",
        "def guess_the_number():\n",
        "  secret_number = random.randint(1, 100)\n",
        "  attempts = 0\n",
        "\n",
        "  while True:\n",
        "    guess = int(input(\"Guess the number (between 1 and 100): \"))\n",
        "    attempts += 1\n",
        "\n",
        "    if guess == secret_number:\n",
        "      print(f\"Congratulations! You guessed the number {secret_number} in {attempts} attempts.\")\n",
        "      break\n",
        "\n",
        "    elif guess< secret_number:\n",
        "        print(\"Too low! Try again.\")\n",
        "    else:\n",
        "        print(\"Too high! Try again.\")\n",
        "\n",
        "guess_the_number()"
      ],
      "metadata": {
        "colab": {
          "base_uri": "https://localhost:8080/"
        },
        "id": "NkL2AI5EB_VC",
        "outputId": "02df9300-d0c5-4eee-eaae-a62d6057923a"
      },
      "execution_count": 29,
      "outputs": [
        {
          "output_type": "stream",
          "name": "stdout",
          "text": [
            "Guess the number (between 1 and 100): 20\n",
            "Too high! Try again.\n",
            "Guess the number (between 1 and 100): 10\n",
            "Too low! Try again.\n",
            "Guess the number (between 1 and 100): 15\n",
            "Too low! Try again.\n",
            "Guess the number (between 1 and 100): 17\n",
            "Too high! Try again.\n",
            "Guess the number (between 1 and 100): 16\n",
            "Congratulations! You guessed the number 16 in 5 attempts.\n"
          ]
        }
      ]
    },
    {
      "cell_type": "code",
      "source": [
        "def time_diff (distance,base_speed,new_speed):\n",
        "  timecalc = 60 *distance*(new_speed-base_speed)//(new_speed*base_speed)\n",
        "  if timecalc > 0:\n",
        "    print(timecalc,\" Minutes less\")\n",
        "  elif timecalc < 0:\n",
        "    print(abs(timecalc),\" Minutes more\")\n",
        "  else:\n",
        "    print(\"No time difference\")\n",
        "\n",
        "\n",
        "\n",
        "distance_inp = int(input(\"input distance \"))\n",
        "base_speed_inp = int(input(\"input base speed \"))\n",
        "new_speed_inp = int(input(\"input new speed \"))\n",
        "\n",
        "\n",
        "\n",
        "time_diff(distance_inp,base_speed_inp,new_speed_inp)\n",
        "\n",
        "\n",
        "\n"
      ],
      "metadata": {
        "colab": {
          "base_uri": "https://localhost:8080/"
        },
        "id": "kFyt5MrfZDNA",
        "outputId": "35364954-cca1-41d1-87ac-bc0e40a07e2f"
      },
      "execution_count": 68,
      "outputs": [
        {
          "output_type": "stream",
          "name": "stdout",
          "text": [
            "input distance 50\n",
            "input base speed 60\n",
            "input new speed 60\n",
            "No time difference\n"
          ]
        }
      ]
    },
    {
      "cell_type": "code",
      "source": [],
      "metadata": {
        "id": "J95ymWJlh4so"
      },
      "execution_count": null,
      "outputs": []
    }
  ]
}